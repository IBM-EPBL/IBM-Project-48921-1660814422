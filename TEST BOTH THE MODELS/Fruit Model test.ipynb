{
 "cells": [
  {
   "cell_type": "code",
   "execution_count": 1,
   "metadata": {
    "id": "TKHmbdmEjcJf"
   },
   "outputs": [],
   "source": [
    "from tensorflow.keras.preprocessing import image"
   ]
  },
  {
   "cell_type": "code",
   "execution_count": 2,
   "metadata": {
    "id": "67WFzPonjcHQ"
   },
   "outputs": [],
   "source": [
    "from tensorflow.keras.models import load_model"
   ]
  },
  {
   "cell_type": "code",
   "execution_count": 3,
   "metadata": {
    "id": "JK_MovT7jcJs"
   },
   "outputs": [],
   "source": [
    "model = load_model(\"fruit.h5\")"
   ]
  },
  {
   "cell_type": "code",
   "execution_count": 5,
   "metadata": {
    "id": "dbnIH6JPjcJy"
   },
   "outputs": [],
   "source": [
    "img = image.load_img(\"APPLE.jpg\",target_size=(64,64))"
   ]
  },
  {
   "cell_type": "code",
   "execution_count": 6,
   "metadata": {
    "id": "rhzSb6sQjcKB",
    "outputId": "2542a5e9-8249-404a-b30f-5e23394d2df3"
   },
   "outputs": [
    {
     "data": {
      "image/png": "[encoded data removed]",
      "text/plain": [
       "<PIL.Image.Image image mode=RGB size=64x64 at 0x17D5DACAFA0>"
      ]
     },
     "execution_count": 6,
     "metadata": {},
     "output_type": "execute_result"
    }
   ],
   "source": [
    "img"
   ]
  },
  {
   "cell_type": "code",
   "execution_count": 7,
   "metadata": {
    "id": "gcgBGD27jcK0",
    "outputId": "70c4657f-d99c-405b-e9d8-68800f4d0099"
   },
   "outputs": [
    {
     "data": {
      "text/plain": [
       "PIL.Image.Image"
      ]
     },
     "execution_count": 7,
     "metadata": {},
     "output_type": "execute_result"
    }
   ],
   "source": [
    "type(img)"
   ]
  },
  {
   "cell_type": "code",
   "execution_count": 8,
   "metadata": {
    "id": "UwNrQP9KjcLS"
   },
   "outputs": [],
   "source": [
    "x = image.img_to_array(img)"
   ]
  },
  {
   "cell_type": "code",
   "execution_count": 9,
   "metadata": {
    "id": "6EKLLPj8jcLb",
    "outputId": "6f871bcb-9835-4c2b-a974-a15b34ef3b1a"
   },
   "outputs": [
    {
     "data": {
      "text/plain": [
       "array([[[164., 156., 179.],\n",
       "        [170., 162., 185.],\n",
       "        [165., 157., 180.],\n",
       "        ...,\n",
       "        [169., 156., 176.],\n",
       "        [164., 151., 171.],\n",
       "        [163., 150., 170.]],\n",
       "\n",
       "       [[176., 168., 191.],\n",
       "        [165., 157., 180.],\n",
       "        [165., 157., 180.],\n",
       "        ...,\n",
       "        [177., 164., 184.],\n",
       "        [174., 161., 181.],\n",
       "        [182., 169., 189.]],\n",
       "\n",
       "       [[179., 171., 194.],\n",
       "        [186., 178., 201.],\n",
       "        [179., 171., 194.],\n",
       "        ...,\n",
       "        [175., 162., 182.],\n",
       "        [172., 159., 179.],\n",
       "        [166., 153., 173.]],\n",
       "\n",
       "       ...,\n",
       "\n",
       "       [[230., 225., 232.],\n",
       "        [234., 229., 236.],\n",
       "        [210., 205., 212.],\n",
       "        ...,\n",
       "        [235., 223., 233.],\n",
       "        [201., 189., 199.],\n",
       "        [226., 214., 224.]],\n",
       "\n",
       "       [[222., 217., 224.],\n",
       "        [229., 224., 231.],\n",
       "        [202., 197., 204.],\n",
       "        ...,\n",
       "        [231., 219., 229.],\n",
       "        [214., 202., 212.],\n",
       "        [219., 207., 217.]],\n",
       "\n",
       "       [[230., 225., 232.],\n",
       "        [234., 229., 236.],\n",
       "        [221., 216., 223.],\n",
       "        ...,\n",
       "        [232., 220., 230.],\n",
       "        [209., 197., 207.],\n",
       "        [239., 227., 237.]]], dtype=float32)"
      ]
     },
     "execution_count": 9,
     "metadata": {},
     "output_type": "execute_result"
    }
   ],
   "source": [
    "x"
   ]
  },
  {
   "cell_type": "code",
   "execution_count": 10,
   "metadata": {
    "id": "_TtgviAPjcL1",
    "outputId": "464fc4f1-5dd7-47f9-a42e-6ee6277d52f7"
   },
   "outputs": [
    {
     "data": {
      "text/plain": [
       "(64, 64, 3)"
      ]
     },
     "execution_count": 10,
     "metadata": {},
     "output_type": "execute_result"
    }
   ],
   "source": [
    "x.shape"
   ]
  },
  {
   "cell_type": "code",
   "execution_count": 11,
   "metadata": {
    "id": "56adCmwIjcNE"
   },
   "outputs": [],
   "source": [
    "import numpy as np"
   ]
  },
  {
   "cell_type": "code",
   "execution_count": 12,
   "metadata": {
    "id": "8yeH7SJNjcPf"
   },
   "outputs": [],
   "source": [
    "# convolution expects 4D\n",
    "#(2,64,64,3)=> 2 indicates batch size\n",
    "x = np.expand_dims(x,axis=0)"
   ]
  },
  {
   "cell_type": "code",
   "execution_count": 13,
   "metadata": {
    "id": "D5teMIG3jcPk",
    "outputId": "0c1026cc-c272-49ee-d3ee-6982b3f004bb"
   },
   "outputs": [
    {
     "data": {
      "text/plain": [
       "(1, 64, 64, 3)"
      ]
     },
     "execution_count": 13,
     "metadata": {},
     "output_type": "execute_result"
    }
   ],
   "source": [
    "x.shape"
   ]
  },
  {
   "cell_type": "code",
   "execution_count": 14,
   "metadata": {
    "id": "pco2VLj0jcPs",
    "outputId": "9924ba09-3355-40c1-948c-a6bac6a3728a"
   },
   "outputs": [
    {
     "name": "stdout",
     "output_type": "stream",
     "text": [
      "1/1 [==============================] - 5s 5s/step\n"
     ]
    }
   ],
   "source": [
    "pred_prob = model.predict(x)"
   ]
  },
  {
   "cell_type": "code",
   "execution_count": 15,
   "metadata": {
    "id": "dczzSMISjcPw",
    "outputId": "e336074b-bd13-4980-91e5-f30cf6b8c715"
   },
   "outputs": [
    {
     "data": {
      "text/plain": [
       "array([[8.215613e-24, 1.000000e+00, 0.000000e+00, 0.000000e+00,\n",
       "        0.000000e+00, 0.000000e+00]], dtype=float32)"
      ]
     },
     "execution_count": 15,
     "metadata": {},
     "output_type": "execute_result"
    }
   ],
   "source": [
    "pred_prob"
   ]
  },
  {
   "cell_type": "code",
   "execution_count": 16,
   "metadata": {
    "id": "BEi3sVFPjcQc"
   },
   "outputs": [],
   "source": [
    "class_name=['Apple___Black_rot',\n",
    " 'Apple___healthy',\n",
    " 'Corn_(maize)___Northern_Leaf_Blight',\n",
    " 'Corn_(maize)___healthy',\n",
    " 'Peach___Bacterial_spot',\n",
    " 'Peach___healthy']\n",
    "pred_id = pred_prob.argmax(axis=1)[0]"
   ]
  },
  {
   "cell_type": "code",
   "execution_count": 17,
   "metadata": {
    "id": "cWGbmuI3jcQd",
    "outputId": "5db9d0b1-d94c-4f79-c034-c074202ac94b"
   },
   "outputs": [
    {
     "data": {
      "text/plain": [
       "1"
      ]
     },
     "execution_count": 17,
     "metadata": {},
     "output_type": "execute_result"
    }
   ],
   "source": [
    "pred_id"
   ]
  },
  {
   "cell_type": "code",
   "execution_count": 18,
   "metadata": {
    "id": "EsrZ4NMojcQf",
    "outputId": "b4ca44ad-bf58-474a-dc4d-340a5724aedb"
   },
   "outputs": [
    {
     "name": "stdout",
     "output_type": "stream",
     "text": [
      "the predicted animal is Apple___healthy\n"
     ]
    }
   ],
   "source": [
    "print(\"the predicted Fruit is\",str(class_name[pred_id]))"
   ]
  },
  {
   "cell_type": "code",
   "execution_count": null,
   "metadata": {
    "id": "DaPnMlyqjcQh"
   },
   "outputs": [],
   "source": []
  }
 ],
 "metadata": {
  "colab": {
   "provenance": [],
   "toc_visible": true
  },
  "kernelspec": {
   "display_name": "Python 3 (ipykernel)",
   "language": "python",
   "name": "python3"
  },
  "language_info": {
   "codemirror_mode": {
    "name": "ipython",
    "version": 3
   },
   "file_extension": ".py",
   "mimetype": "text/x-python",
   "name": "python",
   "nbconvert_exporter": "python",
   "pygments_lexer": "ipython3",
   "version": "3.9.12"
  }
 },
 "nbformat": 4,
 "nbformat_minor": 1
}
