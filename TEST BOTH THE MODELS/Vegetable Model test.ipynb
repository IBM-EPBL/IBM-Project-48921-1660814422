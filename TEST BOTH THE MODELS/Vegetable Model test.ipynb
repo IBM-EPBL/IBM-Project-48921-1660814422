{
 "cells": [
  {
   "cell_type": "code",
   "execution_count": 1,
   "metadata": {
    "id": "TKHmbdmEjcJf"
   },
   "outputs": [],
   "source": [
    "from tensorflow.keras.preprocessing import image"
   ]
  },
  {
   "cell_type": "code",
   "execution_count": 2,
   "metadata": {
    "id": "67WFzPonjcHQ"
   },
   "outputs": [],
   "source": [
    "from tensorflow.keras.models import load_model"
   ]
  },
  {
   "cell_type": "code",
   "execution_count": 3,
   "metadata": {
    "id": "JK_MovT7jcJs"
   },
   "outputs": [],
   "source": [
    "model = load_model(\"Vegetable.h5\")"
   ]
  },
  {
   "cell_type": "code",
   "execution_count": 4,
   "metadata": {
    "id": "dbnIH6JPjcJy"
   },
   "outputs": [],
   "source": [
    "img = image.load_img(\"Tomato.jpg\",target_size=(64,64))"
   ]
  },
  {
   "cell_type": "code",
   "execution_count": 5,
   "metadata": {
    "id": "rhzSb6sQjcKB",
    "outputId": "2542a5e9-8249-404a-b30f-5e23394d2df3"
   },
   "outputs": [
    {
     "data": {
      "image/png": "[encoded data removed]",
      "text/plain": [
       "<PIL.Image.Image image mode=RGB size=64x64 at 0x1BCD9AC5280>"
      ]
     },
     "execution_count": 5,
     "metadata": {},
     "output_type": "execute_result"
    }
   ],
   "source": [
    "img"
   ]
  },
  {
   "cell_type": "code",
   "execution_count": 6,
   "metadata": {
    "id": "gcgBGD27jcK0",
    "outputId": "70c4657f-d99c-405b-e9d8-68800f4d0099"
   },
   "outputs": [
    {
     "data": {
      "text/plain": [
       "PIL.Image.Image"
      ]
     },
     "execution_count": 6,
     "metadata": {},
     "output_type": "execute_result"
    }
   ],
   "source": [
    "type(img)"
   ]
  },
  {
   "cell_type": "code",
   "execution_count": 7,
   "metadata": {
    "id": "UwNrQP9KjcLS"
   },
   "outputs": [],
   "source": [
    "x = image.img_to_array(img)"
   ]
  },
  {
   "cell_type": "code",
   "execution_count": 8,
   "metadata": {
    "id": "6EKLLPj8jcLb",
    "outputId": "6f871bcb-9835-4c2b-a974-a15b34ef3b1a"
   },
   "outputs": [
    {
     "data": {
      "text/plain": [
       "array([[[146., 140., 140.],\n",
       "        [133., 127., 127.],\n",
       "        [112., 106., 106.],\n",
       "        ...,\n",
       "        [124., 118., 118.],\n",
       "        [125., 119., 119.],\n",
       "        [113., 107., 107.]],\n",
       "\n",
       "       [[117., 111., 111.],\n",
       "        [116., 110., 110.],\n",
       "        [130., 124., 124.],\n",
       "        ...,\n",
       "        [123., 117., 117.],\n",
       "        [131., 125., 125.],\n",
       "        [139., 133., 133.]],\n",
       "\n",
       "       [[124., 118., 118.],\n",
       "        [116., 110., 110.],\n",
       "        [128., 122., 122.],\n",
       "        ...,\n",
       "        [122., 116., 116.],\n",
       "        [124., 118., 118.],\n",
       "        [129., 123., 123.]],\n",
       "\n",
       "       ...,\n",
       "\n",
       "       [[146., 144., 147.],\n",
       "        [145., 143., 146.],\n",
       "        [155., 153., 156.],\n",
       "        ...,\n",
       "        [162., 160., 161.],\n",
       "        [161., 159., 160.],\n",
       "        [162., 160., 161.]],\n",
       "\n",
       "       [[151., 149., 152.],\n",
       "        [151., 149., 152.],\n",
       "        [155., 153., 156.],\n",
       "        ...,\n",
       "        [160., 158., 159.],\n",
       "        [164., 162., 163.],\n",
       "        [162., 160., 161.]],\n",
       "\n",
       "       [[147., 145., 148.],\n",
       "        [142., 140., 143.],\n",
       "        [148., 146., 149.],\n",
       "        ...,\n",
       "        [157., 155., 156.],\n",
       "        [160., 158., 159.],\n",
       "        [160., 158., 159.]]], dtype=float32)"
      ]
     },
     "execution_count": 8,
     "metadata": {},
     "output_type": "execute_result"
    }
   ],
   "source": [
    "x"
   ]
  },
  {
   "cell_type": "code",
   "execution_count": 9,
   "metadata": {
    "id": "_TtgviAPjcL1",
    "outputId": "464fc4f1-5dd7-47f9-a42e-6ee6277d52f7"
   },
   "outputs": [
    {
     "data": {
      "text/plain": [
       "(64, 64, 3)"
      ]
     },
     "execution_count": 9,
     "metadata": {},
     "output_type": "execute_result"
    }
   ],
   "source": [
    "x.shape"
   ]
  },
  {
   "cell_type": "code",
   "execution_count": 10,
   "metadata": {
    "id": "56adCmwIjcNE"
   },
   "outputs": [],
   "source": [
    "import numpy as np"
   ]
  },
  {
   "cell_type": "code",
   "execution_count": 11,
   "metadata": {
    "id": "8yeH7SJNjcPf"
   },
   "outputs": [],
   "source": [
    "# convolution expects 4D\n",
    "#(2,64,64,3)=> 2 indicates batch size\n",
    "x = np.expand_dims(x,axis=0)"
   ]
  },
  {
   "cell_type": "code",
   "execution_count": 12,
   "metadata": {
    "id": "D5teMIG3jcPk",
    "outputId": "0c1026cc-c272-49ee-d3ee-6982b3f004bb"
   },
   "outputs": [
    {
     "data": {
      "text/plain": [
       "(1, 64, 64, 3)"
      ]
     },
     "execution_count": 12,
     "metadata": {},
     "output_type": "execute_result"
    }
   ],
   "source": [
    "x.shape"
   ]
  },
  {
   "cell_type": "code",
   "execution_count": 13,
   "metadata": {
    "id": "pco2VLj0jcPs",
    "outputId": "9924ba09-3355-40c1-948c-a6bac6a3728a"
   },
   "outputs": [
    {
     "name": "stdout",
     "output_type": "stream",
     "text": [
      "1/1 [==============================] - 1s 595ms/step\n"
     ]
    }
   ],
   "source": [
    "pred_prob = model.predict(x)"
   ]
  },
  {
   "cell_type": "code",
   "execution_count": 14,
   "metadata": {
    "id": "dczzSMISjcPw",
    "outputId": "e336074b-bd13-4980-91e5-f30cf6b8c715"
   },
   "outputs": [
    {
     "data": {
      "text/plain": [
       "array([[0., 0., 0., 0., 0., 0., 0., 0., 1.]], dtype=float32)"
      ]
     },
     "execution_count": 14,
     "metadata": {},
     "output_type": "execute_result"
    }
   ],
   "source": [
    "pred_prob"
   ]
  },
  {
   "cell_type": "code",
   "execution_count": 15,
   "metadata": {
    "id": "BEi3sVFPjcQc"
   },
   "outputs": [],
   "source": [
    "class_name=['Pepper,_bell___Bacterial_spot',\n",
    " 'Pepper,_bell___healthy',\n",
    " 'Potato___Early_blight',\n",
    " 'Potato___Late_blight',\n",
    " 'Potato___healthy',\n",
    " 'Tomato___Bacterial_spot',\n",
    " 'Tomato___Late_blight',\n",
    " 'Tomato___Leaf_Mold',\n",
    " 'Tomato___Septoria_leaf_spot']\n",
    "pred_id = pred_prob.argmax(axis=1)[0]"
   ]
  },
  {
   "cell_type": "code",
   "execution_count": 16,
   "metadata": {
    "id": "cWGbmuI3jcQd",
    "outputId": "5db9d0b1-d94c-4f79-c034-c074202ac94b"
   },
   "outputs": [
    {
     "data": {
      "text/plain": [
       "8"
      ]
     },
     "execution_count": 16,
     "metadata": {},
     "output_type": "execute_result"
    }
   ],
   "source": [
    "pred_id"
   ]
  },
  {
   "cell_type": "code",
   "execution_count": 17,
   "metadata": {
    "id": "EsrZ4NMojcQf",
    "outputId": "b4ca44ad-bf58-474a-dc4d-340a5724aedb"
   },
   "outputs": [
    {
     "name": "stdout",
     "output_type": "stream",
     "text": [
      "the predicted Vegetable is Tomato___Septoria_leaf_spot\n"
     ]
    }
   ],
   "source": [
    "print(\"the predicted Vegetable is\",str(class_name[pred_id]))"
   ]
  },
  {
   "cell_type": "code",
   "execution_count": null,
   "metadata": {
    "id": "DaPnMlyqjcQh"
   },
   "outputs": [],
   "source": []
  },
  {
   "cell_type": "code",
   "execution_count": null,
   "metadata": {},
   "outputs": [],
   "source": []
  }
 ],
 "metadata": {
  "colab": {
   "provenance": [],
   "toc_visible": true
  },
  "kernelspec": {
   "display_name": "Python 3 (ipykernel)",
   "language": "python",
   "name": "python3"
  },
  "language_info": {
   "codemirror_mode": {
    "name": "ipython",
    "version": 3
   },
   "file_extension": ".py",
   "mimetype": "text/x-python",
   "name": "python",
   "nbconvert_exporter": "python",
   "pygments_lexer": "ipython3",
   "version": "3.9.12"
  }
 },
 "nbformat": 4,
 "nbformat_minor": 1
}
