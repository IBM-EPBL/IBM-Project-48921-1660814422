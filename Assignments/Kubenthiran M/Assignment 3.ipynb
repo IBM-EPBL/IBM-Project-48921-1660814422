{
 "cells": [
  {
   "cell_type": "markdown",
   "id": "c593d4a6",
   "metadata": {},
   "source": [
    "Image Augmentation"
   ]
  },
  {
   "cell_type": "code",
   "execution_count": 1,
   "id": "d757d780",
   "metadata": {},
   "outputs": [],
   "source": [
    "from tensorflow.keras.preprocessing.image import ImageDataGenerator"
   ]
  },
  {
   "cell_type": "code",
   "execution_count": 2,
   "id": "8336f226",
   "metadata": {},
   "outputs": [],
   "source": [
    "train_datagen = ImageDataGenerator(rescale=1./255,shear_range=0.2,zoom_range=0.2,horizontal_flip=True,vertical_flip=True)"
   ]
  },
  {
   "cell_type": "code",
   "execution_count": 3,
   "id": "1062bf8b",
   "metadata": {},
   "outputs": [],
   "source": [
    "test_datagen = ImageDataGenerator(rescale=1./255)"
   ]
  },
  {
   "cell_type": "code",
   "execution_count": 4,
   "id": "74d4cff2",
   "metadata": {},
   "outputs": [
    {
     "name": "stdout",
     "output_type": "stream",
     "text": [
      "Found 3883 images belonging to 5 classes.\n"
     ]
    }
   ],
   "source": [
    "train = train_datagen.flow_from_directory(r\"D:\\Fertilizer\\flowers\\Train\",target_size=(64,64),batch_size=32,class_mode=\"categorical\")"
   ]
  },
  {
   "cell_type": "code",
   "execution_count": 5,
   "id": "2cb9ecce",
   "metadata": {},
   "outputs": [
    {
     "name": "stdout",
     "output_type": "stream",
     "text": [
      "Found 434 images belonging to 5 classes.\n"
     ]
    }
   ],
   "source": [
    "test = test_datagen.flow_from_directory(r\"D:\\Fertilizer\\flowers\\Test\",target_size=(64,64),batch_size=32,class_mode=\"categorical\")"
   ]
  },
  {
   "cell_type": "code",
   "execution_count": 6,
   "id": "9ece54ba",
   "metadata": {},
   "outputs": [
    {
     "data": {
      "text/plain": [
       "{'daisy': 0, 'dandelion': 1, 'rose': 2, 'sunflower': 3, 'tulip': 4}"
      ]
     },
     "execution_count": 6,
     "metadata": {},
     "output_type": "execute_result"
    }
   ],
   "source": [
    "train.class_indices"
   ]
  },
  {
   "cell_type": "markdown",
   "id": "3431c93e",
   "metadata": {},
   "source": [
    "Create Model"
   ]
  },
  {
   "cell_type": "code",
   "execution_count": 7,
   "id": "05a60a44",
   "metadata": {},
   "outputs": [],
   "source": [
    "from tensorflow.keras.models import Sequential\n",
    "from tensorflow.keras.layers import Dense"
   ]
  },
  {
   "cell_type": "code",
   "execution_count": 8,
   "id": "4d934b93",
   "metadata": {},
   "outputs": [],
   "source": [
    "model = Sequential()"
   ]
  },
  {
   "cell_type": "markdown",
   "id": "841dfa61",
   "metadata": {},
   "source": [
    "Add Layers"
   ]
  },
  {
   "cell_type": "code",
   "execution_count": 9,
   "id": "eededed0",
   "metadata": {},
   "outputs": [],
   "source": [
    "from tensorflow.keras.layers import Convolution2D\n",
    "from tensorflow.keras.layers import MaxPooling2D\n",
    "from tensorflow.keras.layers import Flatten"
   ]
  },
  {
   "cell_type": "code",
   "execution_count": 10,
   "id": "58ac098f",
   "metadata": {},
   "outputs": [],
   "source": [
    "#Convolution\n",
    "model.add(Convolution2D(32,(3,3),input_shape=(64,64,3),activation=\"relu\"))\n",
    "\n",
    "#MaxPooling\n",
    "model.add(MaxPooling2D(pool_size=(2,2)))\n",
    "\n",
    "#Flatten\n",
    "model.add(Flatten())\n",
    "\n",
    "#Dense\n",
    "#Hidden Layer 1\n",
    "model.add(Dense(units=400,kernel_initializer=\"random_uniform\",activation=\"relu\"))\n",
    "#Hidden Layer 2\n",
    "model.add(Dense(units=200,kernel_initializer=\"random_uniform\",activation=\"relu\"))\n",
    "\n",
    "#Output\n",
    "model.add(Dense(units=5,kernel_initializer=\"random_uniform\",activation=\"softmax\"))\n"
   ]
  },
  {
   "cell_type": "markdown",
   "id": "f4132154",
   "metadata": {},
   "source": [
    "Compile The Model"
   ]
  },
  {
   "cell_type": "code",
   "execution_count": 11,
   "id": "2c84870d",
   "metadata": {},
   "outputs": [],
   "source": [
    "model.compile(loss=\"categorical_crossentropy\",optimizer=\"adam\",metrics=['accuracy'])"
   ]
  },
  {
   "cell_type": "markdown",
   "id": "b9f9f4fa",
   "metadata": {},
   "source": [
    "Fit The Model"
   ]
  },
  {
   "cell_type": "code",
   "execution_count": 14,
   "id": "65a98fa2",
   "metadata": {},
   "outputs": [
    {
     "name": "stderr",
     "output_type": "stream",
     "text": [
      "C:\\Users\\MESAVARAJ\\AppData\\Local\\Temp\\ipykernel_9820\\1330236548.py:1: UserWarning: `Model.fit_generator` is deprecated and will be removed in a future version. Please use `Model.fit`, which supports generators.\n",
      "  model.fit_generator(train,steps_per_epoch=39,epochs=25,validation_data=test,validation_steps=10)\n"
     ]
    },
    {
     "name": "stdout",
     "output_type": "stream",
     "text": [
      "Epoch 1/25\n",
      "39/39 [==============================] - 84s 2s/step - loss: 1.4609 - accuracy: 0.3542 - val_loss: 1.3004 - val_accuracy: 0.4000\n",
      "Epoch 2/25\n",
      "39/39 [==============================] - 46s 1s/step - loss: 1.2342 - accuracy: 0.4588 - val_loss: 1.2613 - val_accuracy: 0.5063\n",
      "Epoch 3/25\n",
      "39/39 [==============================] - 45s 1s/step - loss: 1.1494 - accuracy: 0.5264 - val_loss: 1.3572 - val_accuracy: 0.4531\n",
      "Epoch 4/25\n",
      "39/39 [==============================] - 31s 780ms/step - loss: 1.0977 - accuracy: 0.5529 - val_loss: 1.2088 - val_accuracy: 0.5156\n",
      "Epoch 5/25\n",
      "39/39 [==============================] - 25s 631ms/step - loss: 1.1297 - accuracy: 0.5444 - val_loss: 1.4014 - val_accuracy: 0.4688\n",
      "Epoch 6/25\n",
      "39/39 [==============================] - 23s 593ms/step - loss: 1.0698 - accuracy: 0.5761 - val_loss: 1.2220 - val_accuracy: 0.5094\n",
      "Epoch 7/25\n",
      "39/39 [==============================] - 22s 571ms/step - loss: 1.0274 - accuracy: 0.5962 - val_loss: 1.2148 - val_accuracy: 0.5719\n",
      "Epoch 8/25\n",
      "39/39 [==============================] - 22s 556ms/step - loss: 1.0004 - accuracy: 0.6023 - val_loss: 1.1229 - val_accuracy: 0.5469\n",
      "Epoch 9/25\n",
      "39/39 [==============================] - 21s 539ms/step - loss: 0.9669 - accuracy: 0.6243 - val_loss: 1.2508 - val_accuracy: 0.5031\n",
      "Epoch 10/25\n",
      "39/39 [==============================] - 21s 523ms/step - loss: 0.9756 - accuracy: 0.6026 - val_loss: 1.1297 - val_accuracy: 0.6031\n",
      "Epoch 11/25\n",
      "39/39 [==============================] - 20s 516ms/step - loss: 0.9308 - accuracy: 0.6414 - val_loss: 1.3227 - val_accuracy: 0.5281\n",
      "Epoch 12/25\n",
      "39/39 [==============================] - 20s 525ms/step - loss: 0.9169 - accuracy: 0.6373 - val_loss: 1.5294 - val_accuracy: 0.4094\n",
      "Epoch 13/25\n",
      "39/39 [==============================] - 20s 519ms/step - loss: 0.9006 - accuracy: 0.6546 - val_loss: 1.3084 - val_accuracy: 0.5906\n",
      "Epoch 14/25\n",
      "39/39 [==============================] - 24s 615ms/step - loss: 0.8945 - accuracy: 0.6434 - val_loss: 1.1439 - val_accuracy: 0.5688\n",
      "Epoch 15/25\n",
      "39/39 [==============================] - 22s 566ms/step - loss: 0.8519 - accuracy: 0.6715 - val_loss: 1.1071 - val_accuracy: 0.6281\n",
      "Epoch 16/25\n",
      "39/39 [==============================] - 21s 527ms/step - loss: 0.8796 - accuracy: 0.6707 - val_loss: 1.0624 - val_accuracy: 0.6375\n",
      "Epoch 17/25\n",
      "39/39 [==============================] - 20s 510ms/step - loss: 0.8882 - accuracy: 0.6667 - val_loss: 1.0739 - val_accuracy: 0.5875\n",
      "Epoch 18/25\n",
      "39/39 [==============================] - 20s 521ms/step - loss: 0.8057 - accuracy: 0.6987 - val_loss: 1.0905 - val_accuracy: 0.6156\n",
      "Epoch 19/25\n",
      "39/39 [==============================] - 23s 586ms/step - loss: 0.8431 - accuracy: 0.6618 - val_loss: 1.0967 - val_accuracy: 0.5500\n",
      "Epoch 20/25\n",
      "39/39 [==============================] - 23s 583ms/step - loss: 0.7931 - accuracy: 0.6936 - val_loss: 1.2179 - val_accuracy: 0.5625\n",
      "Epoch 21/25\n",
      "39/39 [==============================] - 23s 576ms/step - loss: 0.7803 - accuracy: 0.7035 - val_loss: 1.0382 - val_accuracy: 0.6313\n",
      "Epoch 22/25\n",
      "39/39 [==============================] - 24s 610ms/step - loss: 0.7951 - accuracy: 0.6822 - val_loss: 1.0801 - val_accuracy: 0.5906\n",
      "Epoch 23/25\n",
      "39/39 [==============================] - 21s 545ms/step - loss: 0.7522 - accuracy: 0.7082 - val_loss: 1.1168 - val_accuracy: 0.5875\n",
      "Epoch 24/25\n",
      "39/39 [==============================] - 23s 586ms/step - loss: 0.7796 - accuracy: 0.6919 - val_loss: 1.0253 - val_accuracy: 0.6438\n",
      "Epoch 25/25\n",
      "39/39 [==============================] - 22s 554ms/step - loss: 0.7782 - accuracy: 0.7074 - val_loss: 1.1094 - val_accuracy: 0.5906\n"
     ]
    },
    {
     "data": {
      "text/plain": [
       "<keras.callbacks.History at 0x11c0e7c8f40>"
      ]
     },
     "execution_count": 14,
     "metadata": {},
     "output_type": "execute_result"
    }
   ],
   "source": [
    "model.fit_generator(train,steps_per_epoch=39,epochs=25,validation_data=test,validation_steps=10) "
   ]
  },
  {
   "cell_type": "markdown",
   "id": "a2039e77",
   "metadata": {},
   "source": [
    "Save The Model"
   ]
  },
  {
   "cell_type": "code",
   "execution_count": 15,
   "id": "4161aad0",
   "metadata": {},
   "outputs": [],
   "source": [
    "model.save(\"Flowers.h5\")"
   ]
  },
  {
   "cell_type": "markdown",
   "id": "8c34e7eb",
   "metadata": {},
   "source": [
    "Test The Model"
   ]
  },
  {
   "cell_type": "code",
   "execution_count": 16,
   "id": "70aeab2d",
   "metadata": {},
   "outputs": [],
   "source": [
    "from tensorflow.keras.preprocessing import image\n",
    "import numpy as np"
   ]
  },
  {
   "cell_type": "code",
   "execution_count": 17,
   "id": "2aacec4c",
   "metadata": {},
   "outputs": [],
   "source": [
    "#Reading image_1\n",
    "img = image.load_img(\"2682566502_967e7eaa2a.jpg\",target_size=(64,64))"
   ]
  },
  {
   "cell_type": "code",
   "execution_count": 20,
   "id": "96c3529e",
   "metadata": {},
   "outputs": [
    {
     "name": "stdout",
     "output_type": "stream",
     "text": [
      "1/1 [==============================] - 0s 61ms/step\n"
     ]
    }
   ],
   "source": [
    "#Convertinng image to array\n",
    "x = image.img_to_array(img)\n",
    "\n",
    "#Expanding dimensions\n",
    "x = np.expand_dims(x,axis=0)\n",
    "\n",
    "#predicting higher propability index\n",
    "pred_prob = model.predict(x)\n",
    "\n",
    "#Creating List\n",
    "class_name = ['daisy','dandelion','rose','sunflower','tulip']\n",
    "pred_id = pred_prob.argmax(axis=1)[0]"
   ]
  },
  {
   "cell_type": "code",
   "execution_count": 22,
   "id": "23c0f10a",
   "metadata": {},
   "outputs": [
    {
     "data": {
      "image/png": "[encoded data removed]",
      "text/plain": [
       "<PIL.Image.Image image mode=RGB size=64x64 at 0x11C0F8B1AC0>"
      ]
     },
     "execution_count": 22,
     "metadata": {},
     "output_type": "execute_result"
    }
   ],
   "source": [
    "img"
   ]
  },
  {
   "cell_type": "code",
   "execution_count": 23,
   "id": "9adc16fe",
   "metadata": {},
   "outputs": [
    {
     "name": "stdout",
     "output_type": "stream",
     "text": [
      "the flower is rose\n"
     ]
    }
   ],
   "source": [
    "#List indexing with output\n",
    "print(\"the flower is\",str(class_name[pred_id]))"
   ]
  },
  {
   "cell_type": "code",
   "execution_count": 24,
   "id": "0f6b2886",
   "metadata": {},
   "outputs": [],
   "source": [
    "#Reading image_2\n",
    "img = image.load_img(\"40410814_fba3837226_n.jpg\",target_size=(64,64))"
   ]
  },
  {
   "cell_type": "code",
   "execution_count": 25,
   "id": "ab86a9ce",
   "metadata": {},
   "outputs": [
    {
     "name": "stdout",
     "output_type": "stream",
     "text": [
      "1/1 [==============================] - 0s 57ms/step\n"
     ]
    }
   ],
   "source": [
    "#Convertinng image to array\n",
    "x = image.img_to_array(img)\n",
    "\n",
    "#Expanding dimensions\n",
    "x = np.expand_dims(x,axis=0)\n",
    "\n",
    "#predicting higher propability index\n",
    "pred_prob = model.predict(x)\n",
    "\n",
    "#Creating List\n",
    "class_name = ['daisy','dandelion','rose','sunflower','tulip']\n",
    "pred_id = pred_prob.argmax(axis=1)[0]"
   ]
  },
  {
   "cell_type": "code",
   "execution_count": 26,
   "id": "9baad8e6",
   "metadata": {},
   "outputs": [
    {
     "data": {
      "image/png": "[encoded data removed]",
      "text/plain": [
       "<PIL.Image.Image image mode=RGB size=64x64 at 0x11C034A7CA0>"
      ]
     },
     "execution_count": 26,
     "metadata": {},
     "output_type": "execute_result"
    }
   ],
   "source": [
    "img"
   ]
  },
  {
   "cell_type": "code",
   "execution_count": 28,
   "id": "7e1dd79e",
   "metadata": {},
   "outputs": [
    {
     "name": "stdout",
     "output_type": "stream",
     "text": [
      "the flower is sunflower\n"
     ]
    }
   ],
   "source": [
    "#List indexing with output\n",
    "print(\"the flower is\",str(class_name[pred_id]))"
   ]
  }
 ],
 "metadata": {
  "kernelspec": {
   "display_name": "Python 3 (ipykernel)",
   "language": "python",
   "name": "python3"
  },
  "language_info": {
   "codemirror_mode": {
    "name": "ipython",
    "version": 3
   },
   "file_extension": ".py",
   "mimetype": "text/x-python",
   "name": "python",
   "nbconvert_exporter": "python",
   "pygments_lexer": "ipython3",
   "version": "3.9.12"
  }
 },
 "nbformat": 4,
 "nbformat_minor": 5
}
