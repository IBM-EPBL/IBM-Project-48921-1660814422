{
 "cells": [
  {
   "cell_type": "markdown",
   "id": "c1426d87",
   "metadata": {},
   "source": [
    "Model Building For Vegetable Disease Prediction"
   ]
  },
  {
   "cell_type": "markdown",
   "id": "6160951d",
   "metadata": {},
   "source": [
    "Image Preprocessing"
   ]
  },
  {
   "cell_type": "code",
   "execution_count": 1,
   "id": "03c363c7",
   "metadata": {},
   "outputs": [],
   "source": [
    "from keras.preprocessing.image import ImageDataGenerator"
   ]
  },
  {
   "cell_type": "code",
   "execution_count": 2,
   "id": "3b77f100",
   "metadata": {},
   "outputs": [],
   "source": [
    "train_datagen = ImageDataGenerator(rescale=1./255,shear_range=0.2,zoom_range=0.2,horizontal_flip=True,vertical_flip=True)"
   ]
  },
  {
   "cell_type": "code",
   "execution_count": 3,
   "id": "25c553b2",
   "metadata": {},
   "outputs": [],
   "source": [
    "test_datagen = ImageDataGenerator(rescale=1./255)"
   ]
  },
  {
   "cell_type": "code",
   "execution_count": 4,
   "id": "977e43e4",
   "metadata": {},
   "outputs": [
    {
     "name": "stdout",
     "output_type": "stream",
     "text": [
      "Found 11386 images belonging to 9 classes.\n"
     ]
    }
   ],
   "source": [
    "x_train = train_datagen.flow_from_directory(r\"C:\\Users\\ELCOT\\Veg-dataset\\train_set\",target_size=(64,64),batch_size=32,class_mode=\"categorical\")"
   ]
  },
  {
   "cell_type": "code",
   "execution_count": 5,
   "id": "5179e5f9",
   "metadata": {},
   "outputs": [
    {
     "name": "stdout",
     "output_type": "stream",
     "text": [
      "Found 3416 images belonging to 9 classes.\n"
     ]
    }
   ],
   "source": [
    "x_test = test_datagen.flow_from_directory(r\"C:\\Users\\ELCOT\\Veg-dataset\\test_set\",target_size=(64,64),batch_size=32,class_mode=\"categorical\")"
   ]
  },
  {
   "cell_type": "markdown",
   "id": "b65b186b",
   "metadata": {},
   "source": [
    "Import The Libraries"
   ]
  },
  {
   "cell_type": "code",
   "execution_count": 6,
   "id": "b99744af",
   "metadata": {},
   "outputs": [],
   "source": [
    "from tensorflow.keras.models import Sequential"
   ]
  },
  {
   "cell_type": "code",
   "execution_count": 7,
   "id": "8ad73738",
   "metadata": {},
   "outputs": [],
   "source": [
    "from tensorflow.keras.layers import Dense"
   ]
  },
  {
   "cell_type": "code",
   "execution_count": 8,
   "id": "b2a94cf2",
   "metadata": {},
   "outputs": [],
   "source": [
    "from tensorflow.keras.layers import Convolution2D"
   ]
  },
  {
   "cell_type": "code",
   "execution_count": 9,
   "id": "e5a2e030",
   "metadata": {},
   "outputs": [],
   "source": [
    "from tensorflow.keras.layers import MaxPooling2D"
   ]
  },
  {
   "cell_type": "code",
   "execution_count": 10,
   "id": "48980ad8",
   "metadata": {},
   "outputs": [],
   "source": [
    "from tensorflow.keras.layers import Flatten"
   ]
  },
  {
   "cell_type": "markdown",
   "id": "895a21c1",
   "metadata": {},
   "source": [
    "Initializing The Model"
   ]
  },
  {
   "cell_type": "code",
   "execution_count": 11,
   "id": "0ccc454d",
   "metadata": {},
   "outputs": [],
   "source": [
    "model = Sequential()"
   ]
  },
  {
   "cell_type": "markdown",
   "id": "c58cc602",
   "metadata": {},
   "source": [
    "ADD CNN Layers"
   ]
  },
  {
   "cell_type": "markdown",
   "id": "8aa8d0fc",
   "metadata": {},
   "source": [
    "Add Convolution Layer"
   ]
  },
  {
   "cell_type": "code",
   "execution_count": 12,
   "id": "0c39e043",
   "metadata": {},
   "outputs": [],
   "source": [
    "model.add(Convolution2D(32,(3,3),input_shape=(64,64,3),activation=\"relu\"))"
   ]
  },
  {
   "cell_type": "markdown",
   "id": "72c99d0f",
   "metadata": {},
   "source": [
    "Add the pooling layer - Max Pooling"
   ]
  },
  {
   "cell_type": "code",
   "execution_count": 13,
   "id": "4ff1f46b",
   "metadata": {},
   "outputs": [],
   "source": [
    "model.add(MaxPooling2D(pool_size=(2,2)))"
   ]
  },
  {
   "cell_type": "markdown",
   "id": "66588a52",
   "metadata": {},
   "source": [
    "Add the flatten layer"
   ]
  },
  {
   "cell_type": "code",
   "execution_count": 14,
   "id": "bf8b9fc7",
   "metadata": {},
   "outputs": [],
   "source": [
    "model.add(Flatten())"
   ]
  },
  {
   "cell_type": "markdown",
   "id": "9534166d",
   "metadata": {},
   "source": [
    "Add Dense Layers"
   ]
  },
  {
   "cell_type": "code",
   "execution_count": 15,
   "id": "3c2e36f9",
   "metadata": {},
   "outputs": [],
   "source": [
    "model.add(Dense(units=300,kernel_initializer=\"random_uniform\",activation=\"relu\"))"
   ]
  },
  {
   "cell_type": "code",
   "execution_count": 16,
   "id": "398c6eae",
   "metadata": {},
   "outputs": [],
   "source": [
    "model.add(Dense(units=200,kernel_initializer=\"random_uniform\",activation=\"relu\"))"
   ]
  },
  {
   "cell_type": "code",
   "execution_count": 17,
   "id": "e2fb8336",
   "metadata": {},
   "outputs": [],
   "source": [
    "model.add(Dense(units=9,kernel_initializer=\"random_uniform\",activation=\"softmax\"))"
   ]
  },
  {
   "cell_type": "markdown",
   "id": "4199ce79",
   "metadata": {},
   "source": [
    "Train And Save The Mode"
   ]
  },
  {
   "cell_type": "markdown",
   "id": "f511ee11",
   "metadata": {},
   "source": [
    " Compile the model"
   ]
  },
  {
   "cell_type": "code",
   "execution_count": 18,
   "id": "2f0df3c5",
   "metadata": {},
   "outputs": [],
   "source": [
    "model.compile(loss=\"categorical_crossentropy\",optimizer=\"adam\",metrics=['accuracy'])"
   ]
  },
  {
   "cell_type": "markdown",
   "id": "f5d96830",
   "metadata": {},
   "source": [
    "Fit and save the model"
   ]
  },
  {
   "cell_type": "code",
   "execution_count": 19,
   "id": "c92bac0d",
   "metadata": {
    "scrolled": true
   },
   "outputs": [
    {
     "name": "stderr",
     "output_type": "stream",
     "text": [
      "C:\\Users\\ELCOT\\AppData\\Local\\Temp\\ipykernel_9688\\3688209611.py:1: UserWarning: `Model.fit_generator` is deprecated and will be removed in a future version. Please use `Model.fit`, which supports generators.\n",
      "  model.fit_generator(x_train,steps_per_epoch=39,epochs=25,validation_data=x_test,validation_steps=10)\n"
     ]
    },
    {
     "name": "stdout",
     "output_type": "stream",
     "text": [
      "Epoch 1/25\n",
      "39/39 [==============================] - 57s 1s/step - loss: 2.1331 - accuracy: 0.1939 - val_loss: 2.0860 - val_accuracy: 0.1437\n",
      "Epoch 2/25\n",
      "39/39 [==============================] - 50s 1s/step - loss: 1.9514 - accuracy: 0.3035 - val_loss: 1.8911 - val_accuracy: 0.2781\n",
      "Epoch 3/25\n",
      "39/39 [==============================] - 45s 1s/step - loss: 1.6260 - accuracy: 0.4235 - val_loss: 1.5266 - val_accuracy: 0.4406\n",
      "Epoch 4/25\n",
      "39/39 [==============================] - 42s 1s/step - loss: 1.4869 - accuracy: 0.4976 - val_loss: 1.5383 - val_accuracy: 0.4000\n",
      "Epoch 5/25\n",
      "39/39 [==============================] - 38s 972ms/step - loss: 1.2262 - accuracy: 0.5633 - val_loss: 1.1483 - val_accuracy: 0.5750\n",
      "Epoch 6/25\n",
      "39/39 [==============================] - 41s 1s/step - loss: 1.0715 - accuracy: 0.6178 - val_loss: 1.2685 - val_accuracy: 0.5500\n",
      "Epoch 7/25\n",
      "39/39 [==============================] - 38s 977ms/step - loss: 1.1133 - accuracy: 0.6186 - val_loss: 1.3945 - val_accuracy: 0.5188\n",
      "Epoch 8/25\n",
      "39/39 [==============================] - 34s 866ms/step - loss: 1.0708 - accuracy: 0.6058 - val_loss: 1.3195 - val_accuracy: 0.5250\n",
      "Epoch 9/25\n",
      "39/39 [==============================] - 32s 821ms/step - loss: 0.9182 - accuracy: 0.6587 - val_loss: 0.8316 - val_accuracy: 0.7156\n",
      "Epoch 10/25\n",
      "39/39 [==============================] - 32s 812ms/step - loss: 0.8071 - accuracy: 0.7107 - val_loss: 0.8624 - val_accuracy: 0.7094\n",
      "Epoch 11/25\n",
      "39/39 [==============================] - 34s 872ms/step - loss: 0.7751 - accuracy: 0.7212 - val_loss: 1.0578 - val_accuracy: 0.6344\n",
      "Epoch 12/25\n",
      "39/39 [==============================] - 26s 665ms/step - loss: 0.7796 - accuracy: 0.7131 - val_loss: 0.7685 - val_accuracy: 0.7188\n",
      "Epoch 13/25\n",
      "39/39 [==============================] - 26s 663ms/step - loss: 0.7900 - accuracy: 0.7147 - val_loss: 0.6855 - val_accuracy: 0.7625\n",
      "Epoch 14/25\n",
      "39/39 [==============================] - 29s 721ms/step - loss: 0.7015 - accuracy: 0.7548 - val_loss: 1.1355 - val_accuracy: 0.6469\n",
      "Epoch 15/25\n",
      "39/39 [==============================] - 28s 707ms/step - loss: 0.7672 - accuracy: 0.7214 - val_loss: 0.7565 - val_accuracy: 0.7250\n",
      "Epoch 16/25\n",
      "39/39 [==============================] - 21s 543ms/step - loss: 0.6891 - accuracy: 0.7488 - val_loss: 1.0047 - val_accuracy: 0.6500\n",
      "Epoch 17/25\n",
      "39/39 [==============================] - 21s 547ms/step - loss: 0.6556 - accuracy: 0.7778 - val_loss: 0.7731 - val_accuracy: 0.6875\n",
      "Epoch 18/25\n",
      "39/39 [==============================] - 22s 567ms/step - loss: 0.6246 - accuracy: 0.7620 - val_loss: 0.7079 - val_accuracy: 0.7312\n",
      "Epoch 19/25\n",
      "39/39 [==============================] - 20s 522ms/step - loss: 0.6686 - accuracy: 0.7580 - val_loss: 0.7098 - val_accuracy: 0.7250\n",
      "Epoch 20/25\n",
      "39/39 [==============================] - 20s 521ms/step - loss: 0.6961 - accuracy: 0.7412 - val_loss: 0.8729 - val_accuracy: 0.7125\n",
      "Epoch 21/25\n",
      "39/39 [==============================] - 21s 528ms/step - loss: 0.6035 - accuracy: 0.7877 - val_loss: 0.7370 - val_accuracy: 0.7125\n",
      "Epoch 22/25\n",
      "39/39 [==============================] - 20s 509ms/step - loss: 0.5835 - accuracy: 0.7901 - val_loss: 0.6480 - val_accuracy: 0.7906\n",
      "Epoch 23/25\n",
      "39/39 [==============================] - 19s 489ms/step - loss: 0.5711 - accuracy: 0.8021 - val_loss: 1.0001 - val_accuracy: 0.6625\n",
      "Epoch 24/25\n",
      "39/39 [==============================] - 19s 497ms/step - loss: 0.6025 - accuracy: 0.7917 - val_loss: 0.5060 - val_accuracy: 0.8219\n",
      "Epoch 25/25\n",
      "39/39 [==============================] - 18s 470ms/step - loss: 0.5518 - accuracy: 0.8053 - val_loss: 0.7330 - val_accuracy: 0.7563\n"
     ]
    },
    {
     "data": {
      "text/plain": [
       "<keras.callbacks.History at 0x11f2c0a28b0>"
      ]
     },
     "execution_count": 19,
     "metadata": {},
     "output_type": "execute_result"
    }
   ],
   "source": [
    "model.fit_generator(x_train,steps_per_epoch=39,epochs=25,validation_data=x_test,validation_steps=10) "
   ]
  },
  {
   "cell_type": "code",
   "execution_count": 20,
   "id": "16704e82",
   "metadata": {},
   "outputs": [],
   "source": [
    "model.save(\"fruit.h5\")"
   ]
  },
  {
   "cell_type": "code",
   "execution_count": 21,
   "id": "fb6577be",
   "metadata": {},
   "outputs": [
    {
     "name": "stdout",
     "output_type": "stream",
     "text": [
      "Model: \"sequential\"\n",
      "_________________________________________________________________\n",
      " Layer (type)                Output Shape              Param #   \n",
      "=================================================================\n",
      " conv2d (Conv2D)             (None, 62, 62, 32)        896       \n",
      "                                                                 \n",
      " max_pooling2d (MaxPooling2D  (None, 31, 31, 32)       0         \n",
      " )                                                               \n",
      "                                                                 \n",
      " flatten (Flatten)           (None, 30752)             0         \n",
      "                                                                 \n",
      " dense (Dense)               (None, 300)               9225900   \n",
      "                                                                 \n",
      " dense_1 (Dense)             (None, 200)               60200     \n",
      "                                                                 \n",
      " dense_2 (Dense)             (None, 9)                 1809      \n",
      "                                                                 \n",
      "=================================================================\n",
      "Total params: 9,288,805\n",
      "Trainable params: 9,288,805\n",
      "Non-trainable params: 0\n",
      "_________________________________________________________________\n"
     ]
    }
   ],
   "source": [
    "model.summary()"
   ]
  },
  {
   "cell_type": "code",
   "execution_count": null,
   "id": "66cecdf3",
   "metadata": {},
   "outputs": [],
   "source": []
  }
 ],
 "metadata": {
  "kernelspec": {
   "display_name": "Python 3 (ipykernel)",
   "language": "python",
   "name": "python3"
  },
  "language_info": {
   "codemirror_mode": {
    "name": "ipython",
    "version": 3
   },
   "file_extension": ".py",
   "mimetype": "text/x-python",
   "name": "python",
   "nbconvert_exporter": "python",
   "pygments_lexer": "ipython3",
   "version": "3.9.12"
  }
 },
 "nbformat": 4,
 "nbformat_minor": 5
}
