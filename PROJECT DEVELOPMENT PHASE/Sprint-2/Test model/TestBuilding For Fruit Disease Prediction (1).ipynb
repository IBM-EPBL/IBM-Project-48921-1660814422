{
 "cells": [
  {
   "cell_type": "markdown",
   "id": "c1426d87",
   "metadata": {},
   "source": [
    "Model Building For Fruit Disease Prediction"
   ]
  },
  {
   "cell_type": "markdown",
   "id": "6160951d",
   "metadata": {},
   "source": [
    "Image Preprocessing"
   ]
  },
  {
   "cell_type": "code",
   "execution_count": 1,
   "id": "03c363c7",
   "metadata": {},
   "outputs": [],
   "source": [
    "from keras.preprocessing.image import ImageDataGenerator"
   ]
  },
  {
   "cell_type": "code",
   "execution_count": 2,
   "id": "3b77f100",
   "metadata": {},
   "outputs": [],
   "source": [
    "train_datagen = ImageDataGenerator(rescale=1./255,shear_range=0.2,zoom_range=0.2,horizontal_flip=True,vertical_flip=True)"
   ]
  },
  {
   "cell_type": "code",
   "execution_count": 3,
   "id": "25c553b2",
   "metadata": {},
   "outputs": [],
   "source": [
    "test_datagen = ImageDataGenerator(rescale=1./255)"
   ]
  },
  {
   "cell_type": "code",
   "execution_count": 4,
   "id": "977e43e4",
   "metadata": {},
   "outputs": [
    {
     "name": "stdout",
     "output_type": "stream",
     "text": [
      "Found 5384 images belonging to 6 classes.\n"
     ]
    }
   ],
   "source": [
    "x_train = train_datagen.flow_from_directory(r\"C:\\Users\\ELCOT\\fruit-dataset\\train\",target_size=(64,64),batch_size=32,class_mode=\"categorical\")"
   ]
  },
  {
   "cell_type": "code",
   "execution_count": 5,
   "id": "5179e5f9",
   "metadata": {},
   "outputs": [
    {
     "name": "stdout",
     "output_type": "stream",
     "text": [
      "Found 1686 images belonging to 6 classes.\n"
     ]
    }
   ],
   "source": [
    "x_test = test_datagen.flow_from_directory(r\"C:\\Users\\ELCOT\\fruit-dataset\\test\",target_size=(64,64),batch_size=32,class_mode=\"categorical\")"
   ]
  },
  {
   "cell_type": "markdown",
   "id": "b65b186b",
   "metadata": {},
   "source": [
    "Import The Libraries"
   ]
  },
  {
   "cell_type": "code",
   "execution_count": 6,
   "id": "b99744af",
   "metadata": {},
   "outputs": [],
   "source": [
    "from tensorflow.keras.models import Sequential"
   ]
  },
  {
   "cell_type": "code",
   "execution_count": 7,
   "id": "8ad73738",
   "metadata": {},
   "outputs": [],
   "source": [
    "from tensorflow.keras.layers import Dense"
   ]
  },
  {
   "cell_type": "code",
   "execution_count": 8,
   "id": "b2a94cf2",
   "metadata": {},
   "outputs": [],
   "source": [
    "from tensorflow.keras.layers import Convolution2D"
   ]
  },
  {
   "cell_type": "code",
   "execution_count": 9,
   "id": "e5a2e030",
   "metadata": {},
   "outputs": [],
   "source": [
    "from tensorflow.keras.layers import MaxPooling2D"
   ]
  },
  {
   "cell_type": "code",
   "execution_count": 10,
   "id": "48980ad8",
   "metadata": {},
   "outputs": [],
   "source": [
    "from tensorflow.keras.layers import Flatten"
   ]
  },
  {
   "cell_type": "markdown",
   "id": "895a21c1",
   "metadata": {},
   "source": [
    "Initializing The Model"
   ]
  },
  {
   "cell_type": "code",
   "execution_count": 11,
   "id": "0ccc454d",
   "metadata": {},
   "outputs": [],
   "source": [
    "model = Sequential()"
   ]
  },
  {
   "cell_type": "markdown",
   "id": "c58cc602",
   "metadata": {},
   "source": [
    "ADD CNN Layers"
   ]
  },
  {
   "cell_type": "markdown",
   "id": "8aa8d0fc",
   "metadata": {},
   "source": [
    "Add Convolution Layer"
   ]
  },
  {
   "cell_type": "code",
   "execution_count": 12,
   "id": "0c39e043",
   "metadata": {},
   "outputs": [],
   "source": [
    "model.add(Convolution2D(32,(3,3),input_shape=(64,64,3),activation=\"relu\"))"
   ]
  },
  {
   "cell_type": "markdown",
   "id": "72c99d0f",
   "metadata": {},
   "source": [
    "Add the pooling layer - Max Pooling"
   ]
  },
  {
   "cell_type": "code",
   "execution_count": 13,
   "id": "4ff1f46b",
   "metadata": {},
   "outputs": [],
   "source": [
    "model.add(MaxPooling2D(pool_size=(2,2)))"
   ]
  },
  {
   "cell_type": "markdown",
   "id": "66588a52",
   "metadata": {},
   "source": [
    "Add the flatten layer"
   ]
  },
  {
   "cell_type": "code",
   "execution_count": 14,
   "id": "bf8b9fc7",
   "metadata": {},
   "outputs": [],
   "source": [
    "model.add(Flatten())"
   ]
  },
  {
   "cell_type": "markdown",
   "id": "9534166d",
   "metadata": {},
   "source": [
    "Add Dense Layers"
   ]
  },
  {
   "cell_type": "code",
   "execution_count": 15,
   "id": "3c2e36f9",
   "metadata": {},
   "outputs": [],
   "source": [
    "model.add(Dense(units=300,kernel_initializer=\"random_uniform\",activation=\"relu\"))"
   ]
  },
  {
   "cell_type": "code",
   "execution_count": 16,
   "id": "398c6eae",
   "metadata": {},
   "outputs": [],
   "source": [
    "model.add(Dense(units=200,kernel_initializer=\"random_uniform\",activation=\"relu\"))"
   ]
  },
  {
   "cell_type": "code",
   "execution_count": 17,
   "id": "e2fb8336",
   "metadata": {},
   "outputs": [],
   "source": [
    "model.add(Dense(units=6,kernel_initializer=\"random_uniform\",activation=\"softmax\"))"
   ]
  },
  {
   "cell_type": "markdown",
   "id": "4199ce79",
   "metadata": {},
   "source": [
    "Train And Save The Mode"
   ]
  },
  {
   "cell_type": "markdown",
   "id": "f511ee11",
   "metadata": {},
   "source": [
    " Compile the model"
   ]
  },
  {
   "cell_type": "code",
   "execution_count": 18,
   "id": "2f0df3c5",
   "metadata": {},
   "outputs": [],
   "source": [
    "model.compile(loss=\"categorical_crossentropy\",optimizer=\"adam\",metrics=['accuracy'])"
   ]
  },
  {
   "cell_type": "markdown",
   "id": "f5d96830",
   "metadata": {},
   "source": [
    "Fit and save the model"
   ]
  },
  {
   "cell_type": "code",
   "execution_count": 19,
   "id": "c92bac0d",
   "metadata": {
    "scrolled": true
   },
   "outputs": [
    {
     "name": "stderr",
     "output_type": "stream",
     "text": [
      "C:\\Users\\ELCOT\\AppData\\Local\\Temp\\ipykernel_11172\\3688209611.py:1: UserWarning: `Model.fit_generator` is deprecated and will be removed in a future version. Please use `Model.fit`, which supports generators.\n",
      "  model.fit_generator(x_train,steps_per_epoch=39,epochs=25,validation_data=x_test,validation_steps=10)\n"
     ]
    },
    {
     "name": "stdout",
     "output_type": "stream",
     "text": [
      "Epoch 1/25\n",
      "39/39 [==============================] - 67s 2s/step - loss: 1.2412 - accuracy: 0.5441 - val_loss: 0.7543 - val_accuracy: 0.7219\n",
      "Epoch 2/25\n",
      "39/39 [==============================] - 48s 1s/step - loss: 0.7173 - accuracy: 0.7324 - val_loss: 0.5499 - val_accuracy: 0.7437\n",
      "Epoch 3/25\n",
      "39/39 [==============================] - 41s 1s/step - loss: 0.5735 - accuracy: 0.7869 - val_loss: 0.6862 - val_accuracy: 0.7094\n",
      "Epoch 4/25\n",
      "39/39 [==============================] - 33s 854ms/step - loss: 0.4965 - accuracy: 0.8203 - val_loss: 0.4206 - val_accuracy: 0.8531\n",
      "Epoch 5/25\n",
      "39/39 [==============================] - 28s 718ms/step - loss: 0.4115 - accuracy: 0.8526 - val_loss: 0.3544 - val_accuracy: 0.8531\n",
      "Epoch 6/25\n",
      "39/39 [==============================] - 27s 694ms/step - loss: 0.3723 - accuracy: 0.8686 - val_loss: 0.4483 - val_accuracy: 0.8219\n",
      "Epoch 7/25\n",
      "39/39 [==============================] - 24s 604ms/step - loss: 0.3818 - accuracy: 0.8606 - val_loss: 0.3258 - val_accuracy: 0.8687\n",
      "Epoch 8/25\n",
      "39/39 [==============================] - 21s 540ms/step - loss: 0.3091 - accuracy: 0.8838 - val_loss: 0.3284 - val_accuracy: 0.8938\n",
      "Epoch 9/25\n",
      "39/39 [==============================] - 20s 515ms/step - loss: 0.3197 - accuracy: 0.8799 - val_loss: 0.2636 - val_accuracy: 0.9125\n",
      "Epoch 10/25\n",
      "39/39 [==============================] - 19s 496ms/step - loss: 0.2479 - accuracy: 0.9006 - val_loss: 0.4432 - val_accuracy: 0.8375\n",
      "Epoch 11/25\n",
      "39/39 [==============================] - 19s 494ms/step - loss: 0.2493 - accuracy: 0.9127 - val_loss: 0.2647 - val_accuracy: 0.8906\n",
      "Epoch 12/25\n",
      "39/39 [==============================] - 20s 508ms/step - loss: 0.3007 - accuracy: 0.9030 - val_loss: 0.2580 - val_accuracy: 0.8844\n",
      "Epoch 13/25\n",
      "39/39 [==============================] - 21s 521ms/step - loss: 0.2151 - accuracy: 0.9287 - val_loss: 0.2881 - val_accuracy: 0.9000\n",
      "Epoch 14/25\n",
      "39/39 [==============================] - 19s 472ms/step - loss: 0.2185 - accuracy: 0.9257 - val_loss: 0.1802 - val_accuracy: 0.9312\n",
      "Epoch 15/25\n",
      "39/39 [==============================] - 19s 492ms/step - loss: 0.2193 - accuracy: 0.9175 - val_loss: 0.4460 - val_accuracy: 0.8375\n",
      "Epoch 16/25\n",
      "39/39 [==============================] - 20s 503ms/step - loss: 0.2485 - accuracy: 0.9118 - val_loss: 0.1588 - val_accuracy: 0.9281\n",
      "Epoch 17/25\n",
      "39/39 [==============================] - 20s 519ms/step - loss: 0.2166 - accuracy: 0.9183 - val_loss: 0.2256 - val_accuracy: 0.9062\n",
      "Epoch 18/25\n",
      "39/39 [==============================] - 20s 501ms/step - loss: 0.2250 - accuracy: 0.9223 - val_loss: 0.2947 - val_accuracy: 0.8813\n",
      "Epoch 19/25\n",
      "39/39 [==============================] - 19s 472ms/step - loss: 0.2823 - accuracy: 0.8998 - val_loss: 0.2441 - val_accuracy: 0.9094\n",
      "Epoch 20/25\n",
      "39/39 [==============================] - 18s 465ms/step - loss: 0.1551 - accuracy: 0.9503 - val_loss: 0.1446 - val_accuracy: 0.9469\n",
      "Epoch 21/25\n",
      "39/39 [==============================] - 19s 493ms/step - loss: 0.1896 - accuracy: 0.9273 - val_loss: 0.1822 - val_accuracy: 0.9375\n",
      "Epoch 22/25\n",
      "39/39 [==============================] - 19s 496ms/step - loss: 0.1470 - accuracy: 0.9455 - val_loss: 0.2653 - val_accuracy: 0.9094\n",
      "Epoch 23/25\n",
      "39/39 [==============================] - 19s 484ms/step - loss: 0.1821 - accuracy: 0.9231 - val_loss: 0.1264 - val_accuracy: 0.9469\n",
      "Epoch 24/25\n",
      "39/39 [==============================] - 19s 482ms/step - loss: 0.1520 - accuracy: 0.9439 - val_loss: 0.2095 - val_accuracy: 0.9281\n",
      "Epoch 25/25\n",
      "39/39 [==============================] - 21s 528ms/step - loss: 0.1701 - accuracy: 0.9399 - val_loss: 0.1447 - val_accuracy: 0.9500\n"
     ]
    },
    {
     "data": {
      "text/plain": [
       "<keras.callbacks.History at 0x1a74d57feb0>"
      ]
     },
     "execution_count": 19,
     "metadata": {},
     "output_type": "execute_result"
    }
   ],
   "source": [
    "model.fit_generator(x_train,steps_per_epoch=39,epochs=25,validation_data=x_test,validation_steps=10) "
   ]
  },
  {
   "cell_type": "code",
   "execution_count": 20,
   "id": "16704e82",
   "metadata": {},
   "outputs": [],
   "source": [
    "model.save(\"fruit.h5\")"
   ]
  },
  {
   "cell_type": "code",
   "execution_count": 21,
   "id": "fb6577be",
   "metadata": {},
   "outputs": [
    {
     "name": "stdout",
     "output_type": "stream",
     "text": [
      "Model: \"sequential\"\n",
      "_________________________________________________________________\n",
      " Layer (type)                Output Shape              Param #   \n",
      "=================================================================\n",
      " conv2d (Conv2D)             (None, 62, 62, 32)        896       \n",
      "                                                                 \n",
      " max_pooling2d (MaxPooling2D  (None, 31, 31, 32)       0         \n",
      " )                                                               \n",
      "                                                                 \n",
      " flatten (Flatten)           (None, 30752)             0         \n",
      "                                                                 \n",
      " dense (Dense)               (None, 300)               9225900   \n",
      "                                                                 \n",
      " dense_1 (Dense)             (None, 200)               60200     \n",
      "                                                                 \n",
      " dense_2 (Dense)             (None, 6)                 1206      \n",
      "                                                                 \n",
      "=================================================================\n",
      "Total params: 9,288,202\n",
      "Trainable params: 9,288,202\n",
      "Non-trainable params: 0\n",
      "_________________________________________________________________\n"
     ]
    }
   ],
   "source": [
    "model.summary()"
   ]
  }
 ],
 "metadata": {
  "kernelspec": {
   "display_name": "Python 3 (ipykernel)",
   "language": "python",
   "name": "python3"
  },
  "language_info": {
   "codemirror_mode": {
    "name": "ipython",
    "version": 3
   },
   "file_extension": ".py",
   "mimetype": "text/x-python",
   "name": "python",
   "nbconvert_exporter": "python",
   "pygments_lexer": "ipython3",
   "version": "3.9.12"
  }
 },
 "nbformat": 4,
 "nbformat_minor": 5
}
